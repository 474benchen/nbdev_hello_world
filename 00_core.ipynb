{
 "cells": [
  {
   "cell_type": "raw",
   "metadata": {},
   "source": [
    "---\n",
    "title: nbdev2 macbook test\n",
    "output-file: core.html\n",
    "description: testing new nbdev release on macbook m1 architecture\n",
    "---"
   ]
  },
  {
   "cell_type": "code",
   "execution_count": null,
   "metadata": {},
   "outputs": [],
   "source": [
    "#| default_exp core"
   ]
  },
  {
   "cell_type": "code",
   "execution_count": null,
   "metadata": {},
   "outputs": [],
   "source": [
    "#| hide\n",
    "from nbdev.showdoc import *\n",
    "import pandas as pd\n",
    "import numpy as np\n",
    "from itertools import cycle"
   ]
  },
  {
   "cell_type": "code",
   "execution_count": null,
   "metadata": {},
   "outputs": [],
   "source": [
    "#| export\n",
    "def foo(): pass"
   ]
  },
  {
   "cell_type": "code",
   "execution_count": null,
   "metadata": {},
   "outputs": [],
   "source": [
    "#|export\n",
    "def say_hello(to):\n",
    "    \"Say hello to somebody\"\n",
    "    return f'Hello {to}!'"
   ]
  },
  {
   "cell_type": "code",
   "execution_count": null,
   "metadata": {},
   "outputs": [
    {
     "data": {
      "text/plain": [
       "'Hello water!'"
      ]
     },
     "execution_count": null,
     "metadata": {},
     "output_type": "execute_result"
    }
   ],
   "source": [
    "say_hello(\"water\")"
   ]
  },
  {
   "cell_type": "markdown",
   "metadata": {},
   "source": [
    "## test index"
   ]
  },
  {
   "cell_type": "code",
   "execution_count": null,
   "metadata": {},
   "outputs": [],
   "source": [
    "from IPython.display import display,SVG"
   ]
  },
  {
   "cell_type": "code",
   "execution_count": null,
   "metadata": {},
   "outputs": [
    {
     "data": {
      "image/svg+xml": [
       "<svg xmlns=\"http://www.w3.org/2000/svg\" height=\"100\"><circle cx=\"50\" cy=\"50\" r=\"40\"/></svg>"
      ],
      "text/plain": [
       "<IPython.core.display.SVG object>"
      ]
     },
     "metadata": {},
     "output_type": "display_data"
    }
   ],
   "source": [
    "display(SVG('<svg height=\"100\" xmlns=\"http://www.w3.org/2000/svg\"><circle cx=\"50\" cy=\"50\" r=\"40\"/></svg>'))"
   ]
  },
  {
   "cell_type": "code",
   "execution_count": null,
   "metadata": {},
   "outputs": [],
   "source": [
    "assert say_hello(\"Hamel\")==\"Hello Hamel!\""
   ]
  },
  {
   "cell_type": "code",
   "execution_count": null,
   "metadata": {},
   "outputs": [
    {
     "data": {
      "text/plain": [
       "'Hello Isaac!'"
      ]
     },
     "execution_count": null,
     "metadata": {},
     "output_type": "execute_result"
    }
   ],
   "source": [
    "say_hello(\"Isaac\")"
   ]
  },
  {
   "cell_type": "code",
   "execution_count": null,
   "metadata": {},
   "outputs": [],
   "source": [
    "#| hide\n",
    "import nbdev; nbdev.nbdev_export()"
   ]
  },
  {
   "cell_type": "markdown",
   "metadata": {},
   "source": [
    "## test dataframe\n"
   ]
  },
  {
   "cell_type": "code",
   "execution_count": null,
   "metadata": {},
   "outputs": [],
   "source": [
    "#|export\n",
    "\n",
    "def generate_fake_dataframe(size, cols, col_names = None, intervals = None, seed = None):\n",
    "    'generate long fake dataframe'\n",
    "    \n",
    "    categories_dict = {'animals': ['cow', 'rabbit', 'duck', 'shrimp', 'pig', 'goat', 'crab', 'deer', 'bee', 'sheep', 'fish', 'turkey', 'dove', 'chicken', 'horse'],\n",
    "                       'names'  : ['James', 'Mary', 'Robert', 'Patricia', 'John', 'Jennifer', 'Michael', 'Linda', 'William', 'Elizabeth', 'Ahmed', 'Barbara', 'Richard', 'Susan', 'Salomon', 'Juan Luis'],\n",
    "                       'cities' : ['Stockholm', 'Denver', 'Moscow', 'Marseille', 'Palermo', 'Tokyo', 'Lisbon', 'Oslo', 'Nairobi', 'Río de Janeiro', 'Berlin', 'Bogotá', 'Manila', 'Madrid', 'Milwaukee'],\n",
    "                       'colors' : ['red', 'orange', 'yellow', 'green', 'blue', 'indigo', 'purple', 'pink', 'silver', 'gold', 'beige', 'brown', 'grey', 'black', 'white']\n",
    "                      }\n",
    "    default_intervals = {\"i\" : (0,10), \"f\" : (0,100), \"c\" : (\"names\", 5), \"d\" : (\"2020-01-01\",\"2020-12-31\")}\n",
    "    rng = np.random.default_rng(seed)\n",
    "\n",
    "    first_c = default_intervals[\"c\"][0]\n",
    "    categories_names = cycle([first_c] + [c for c in categories_dict.keys() if c != first_c])\n",
    "    default_intervals[\"c\"] = (categories_names, default_intervals[\"c\"][1])\n",
    "    \n",
    "    if isinstance(col_names,list):\n",
    "        assert len(col_names) == len(cols), f\"The fake DataFrame should have {len(cols)} columns but col_names is a list with {len(col_names)} elements\"\n",
    "    elif col_names is None:\n",
    "        suffix = {\"c\" : \"cat\", \"i\" : \"int\", \"f\" : \"float\", \"d\" : \"date\"}\n",
    "        col_names = [f\"column_{str(i)}_{suffix.get(col)}\" for i, col in enumerate(cols)]\n",
    "\n",
    "    if isinstance(intervals,list):\n",
    "        assert len(intervals) == len(cols), f\"The fake DataFrame should have {len(cols)} columns but intervals is a list with {len(intervals)} elements\"\n",
    "    else:\n",
    "        if isinstance(intervals,dict):\n",
    "            assert len(set(intervals.keys()) - set(default_intervals.keys())) == 0, f\"The intervals parameter has invalid keys\"\n",
    "            default_intervals.update(intervals)\n",
    "        intervals = [default_intervals[col] for col in cols]\n",
    "    df = pd.DataFrame()\n",
    "    for col, col_name, interval in zip(cols, col_names, intervals):\n",
    "        if interval is None:\n",
    "            interval = default_intervals[col]\n",
    "        assert (len(interval) == 2 and isinstance(interval, tuple)) or isinstance(interval, list), f\"This interval {interval} is neither a tuple of two elements nor a list of strings.\"\n",
    "        if col in (\"i\",\"f\",\"d\"):\n",
    "            start, end = interval\n",
    "        if col == \"i\":\n",
    "            df[col_name] = rng.integers(start, end, size)\n",
    "        elif col == \"f\":\n",
    "            df[col_name] = rng.uniform(start, end, size)\n",
    "        elif col == \"c\":\n",
    "            if isinstance(interval, list):\n",
    "                categories = np.array(interval)\n",
    "            else:\n",
    "                cat_family, length = interval\n",
    "                if isinstance(cat_family, cycle):\n",
    "                    cat_family = next(cat_family)\n",
    "                assert cat_family in categories_dict.keys(), f\"There are no samples for category '{cat_family}'. Consider passing a list of samples or use one of the available categories: {categories_dict.keys()}\"\n",
    "                categories = rng.choice(categories_dict[cat_family], length, replace = False, shuffle = True)\n",
    "            df[col_name] = rng.choice(categories, size, shuffle = True)\n",
    "        elif col == \"d\":\n",
    "            df[col_name] = rng.choice(pd.date_range(start, end), size)\n",
    "    return df "
   ]
  },
  {
   "cell_type": "code",
   "execution_count": null,
   "metadata": {},
   "outputs": [
    {
     "data": {
      "text/html": [
       "<div>\n",
       "<style scoped>\n",
       "    .dataframe tbody tr th:only-of-type {\n",
       "        vertical-align: middle;\n",
       "    }\n",
       "\n",
       "    .dataframe tbody tr th {\n",
       "        vertical-align: top;\n",
       "    }\n",
       "\n",
       "    .dataframe thead th {\n",
       "        text-align: right;\n",
       "    }\n",
       "</style>\n",
       "<table border=\"1\" class=\"dataframe\">\n",
       "  <thead>\n",
       "    <tr style=\"text-align: right;\">\n",
       "      <th></th>\n",
       "      <th>column_0_cat</th>\n",
       "      <th>column_1_int</th>\n",
       "      <th>column_2_float</th>\n",
       "      <th>column_3_int</th>\n",
       "      <th>column_4_float</th>\n",
       "      <th>column_5_float</th>\n",
       "      <th>column_6_int</th>\n",
       "      <th>column_7_cat</th>\n",
       "      <th>column_8_cat</th>\n",
       "      <th>column_9_date</th>\n",
       "      <th>column_10_cat</th>\n",
       "      <th>column_11_cat</th>\n",
       "      <th>column_12_cat</th>\n",
       "    </tr>\n",
       "  </thead>\n",
       "  <tbody>\n",
       "    <tr>\n",
       "      <th>0</th>\n",
       "      <td>John</td>\n",
       "      <td>9</td>\n",
       "      <td>64.685800</td>\n",
       "      <td>1</td>\n",
       "      <td>26.230901</td>\n",
       "      <td>57.968733</td>\n",
       "      <td>2</td>\n",
       "      <td>deer</td>\n",
       "      <td>Oslo</td>\n",
       "      <td>2020-03-23</td>\n",
       "      <td>blue</td>\n",
       "      <td>Robert</td>\n",
       "      <td>sheep</td>\n",
       "    </tr>\n",
       "    <tr>\n",
       "      <th>1</th>\n",
       "      <td>John</td>\n",
       "      <td>9</td>\n",
       "      <td>16.432777</td>\n",
       "      <td>1</td>\n",
       "      <td>53.610216</td>\n",
       "      <td>47.676311</td>\n",
       "      <td>8</td>\n",
       "      <td>pig</td>\n",
       "      <td>Nairobi</td>\n",
       "      <td>2020-10-08</td>\n",
       "      <td>green</td>\n",
       "      <td>Robert</td>\n",
       "      <td>chicken</td>\n",
       "    </tr>\n",
       "    <tr>\n",
       "      <th>2</th>\n",
       "      <td>Barbara</td>\n",
       "      <td>9</td>\n",
       "      <td>8.892160</td>\n",
       "      <td>8</td>\n",
       "      <td>34.800453</td>\n",
       "      <td>18.564650</td>\n",
       "      <td>4</td>\n",
       "      <td>bee</td>\n",
       "      <td>Tokyo</td>\n",
       "      <td>2020-07-20</td>\n",
       "      <td>beige</td>\n",
       "      <td>William</td>\n",
       "      <td>sheep</td>\n",
       "    </tr>\n",
       "    <tr>\n",
       "      <th>3</th>\n",
       "      <td>Elizabeth</td>\n",
       "      <td>6</td>\n",
       "      <td>48.260249</td>\n",
       "      <td>5</td>\n",
       "      <td>62.355616</td>\n",
       "      <td>86.320202</td>\n",
       "      <td>3</td>\n",
       "      <td>shrimp</td>\n",
       "      <td>Tokyo</td>\n",
       "      <td>2020-07-26</td>\n",
       "      <td>yellow</td>\n",
       "      <td>William</td>\n",
       "      <td>turkey</td>\n",
       "    </tr>\n",
       "    <tr>\n",
       "      <th>4</th>\n",
       "      <td>Michael</td>\n",
       "      <td>8</td>\n",
       "      <td>97.392517</td>\n",
       "      <td>5</td>\n",
       "      <td>54.817999</td>\n",
       "      <td>13.179147</td>\n",
       "      <td>3</td>\n",
       "      <td>shrimp</td>\n",
       "      <td>Oslo</td>\n",
       "      <td>2020-07-09</td>\n",
       "      <td>blue</td>\n",
       "      <td>Richard</td>\n",
       "      <td>sheep</td>\n",
       "    </tr>\n",
       "    <tr>\n",
       "      <th>...</th>\n",
       "      <td>...</td>\n",
       "      <td>...</td>\n",
       "      <td>...</td>\n",
       "      <td>...</td>\n",
       "      <td>...</td>\n",
       "      <td>...</td>\n",
       "      <td>...</td>\n",
       "      <td>...</td>\n",
       "      <td>...</td>\n",
       "      <td>...</td>\n",
       "      <td>...</td>\n",
       "      <td>...</td>\n",
       "      <td>...</td>\n",
       "    </tr>\n",
       "    <tr>\n",
       "      <th>995</th>\n",
       "      <td>Barbara</td>\n",
       "      <td>0</td>\n",
       "      <td>52.177797</td>\n",
       "      <td>2</td>\n",
       "      <td>80.179861</td>\n",
       "      <td>25.327817</td>\n",
       "      <td>6</td>\n",
       "      <td>shrimp</td>\n",
       "      <td>Tokyo</td>\n",
       "      <td>2020-05-25</td>\n",
       "      <td>yellow</td>\n",
       "      <td>Robert</td>\n",
       "      <td>deer</td>\n",
       "    </tr>\n",
       "    <tr>\n",
       "      <th>996</th>\n",
       "      <td>Michael</td>\n",
       "      <td>6</td>\n",
       "      <td>20.014674</td>\n",
       "      <td>4</td>\n",
       "      <td>88.916244</td>\n",
       "      <td>6.589388</td>\n",
       "      <td>0</td>\n",
       "      <td>deer</td>\n",
       "      <td>Nairobi</td>\n",
       "      <td>2020-03-21</td>\n",
       "      <td>yellow</td>\n",
       "      <td>James</td>\n",
       "      <td>chicken</td>\n",
       "    </tr>\n",
       "    <tr>\n",
       "      <th>997</th>\n",
       "      <td>Barbara</td>\n",
       "      <td>5</td>\n",
       "      <td>26.575786</td>\n",
       "      <td>8</td>\n",
       "      <td>9.459123</td>\n",
       "      <td>56.085015</td>\n",
       "      <td>3</td>\n",
       "      <td>duck</td>\n",
       "      <td>Oslo</td>\n",
       "      <td>2020-10-31</td>\n",
       "      <td>gold</td>\n",
       "      <td>Robert</td>\n",
       "      <td>chicken</td>\n",
       "    </tr>\n",
       "    <tr>\n",
       "      <th>998</th>\n",
       "      <td>Michael</td>\n",
       "      <td>1</td>\n",
       "      <td>98.383791</td>\n",
       "      <td>8</td>\n",
       "      <td>38.970918</td>\n",
       "      <td>0.813904</td>\n",
       "      <td>8</td>\n",
       "      <td>deer</td>\n",
       "      <td>Tokyo</td>\n",
       "      <td>2020-01-31</td>\n",
       "      <td>beige</td>\n",
       "      <td>Jennifer</td>\n",
       "      <td>deer</td>\n",
       "    </tr>\n",
       "    <tr>\n",
       "      <th>999</th>\n",
       "      <td>Robert</td>\n",
       "      <td>7</td>\n",
       "      <td>85.049913</td>\n",
       "      <td>4</td>\n",
       "      <td>21.840469</td>\n",
       "      <td>83.260118</td>\n",
       "      <td>4</td>\n",
       "      <td>duck</td>\n",
       "      <td>Palermo</td>\n",
       "      <td>2020-06-07</td>\n",
       "      <td>yellow</td>\n",
       "      <td>William</td>\n",
       "      <td>turkey</td>\n",
       "    </tr>\n",
       "  </tbody>\n",
       "</table>\n",
       "<p>1000 rows × 13 columns</p>\n",
       "</div>"
      ],
      "text/plain": [
       "    column_0_cat  column_1_int  column_2_float  column_3_int  column_4_float  \\\n",
       "0           John             9       64.685800             1       26.230901   \n",
       "1           John             9       16.432777             1       53.610216   \n",
       "2        Barbara             9        8.892160             8       34.800453   \n",
       "3      Elizabeth             6       48.260249             5       62.355616   \n",
       "4        Michael             8       97.392517             5       54.817999   \n",
       "..           ...           ...             ...           ...             ...   \n",
       "995      Barbara             0       52.177797             2       80.179861   \n",
       "996      Michael             6       20.014674             4       88.916244   \n",
       "997      Barbara             5       26.575786             8        9.459123   \n",
       "998      Michael             1       98.383791             8       38.970918   \n",
       "999       Robert             7       85.049913             4       21.840469   \n",
       "\n",
       "     column_5_float  column_6_int column_7_cat column_8_cat column_9_date  \\\n",
       "0         57.968733             2         deer         Oslo    2020-03-23   \n",
       "1         47.676311             8          pig      Nairobi    2020-10-08   \n",
       "2         18.564650             4          bee        Tokyo    2020-07-20   \n",
       "3         86.320202             3       shrimp        Tokyo    2020-07-26   \n",
       "4         13.179147             3       shrimp         Oslo    2020-07-09   \n",
       "..              ...           ...          ...          ...           ...   \n",
       "995       25.327817             6       shrimp        Tokyo    2020-05-25   \n",
       "996        6.589388             0         deer      Nairobi    2020-03-21   \n",
       "997       56.085015             3         duck         Oslo    2020-10-31   \n",
       "998        0.813904             8         deer        Tokyo    2020-01-31   \n",
       "999       83.260118             4         duck      Palermo    2020-06-07   \n",
       "\n",
       "    column_10_cat column_11_cat column_12_cat  \n",
       "0            blue        Robert         sheep  \n",
       "1           green        Robert       chicken  \n",
       "2           beige       William         sheep  \n",
       "3          yellow       William        turkey  \n",
       "4            blue       Richard         sheep  \n",
       "..            ...           ...           ...  \n",
       "995        yellow        Robert          deer  \n",
       "996        yellow         James       chicken  \n",
       "997          gold        Robert       chicken  \n",
       "998         beige      Jennifer          deer  \n",
       "999        yellow       William        turkey  \n",
       "\n",
       "[1000 rows x 13 columns]"
      ]
     },
     "execution_count": null,
     "metadata": {},
     "output_type": "execute_result"
    }
   ],
   "source": [
    "generate_fake_dataframe(size = 1000, cols =  \"cififficcdccc\")"
   ]
  },
  {
   "cell_type": "code",
   "execution_count": null,
   "metadata": {},
   "outputs": [],
   "source": []
  }
 ],
 "metadata": {
  "kernelspec": {
   "display_name": "Python 3 (ipykernel)",
   "language": "python",
   "name": "python3"
  }
 },
 "nbformat": 4,
 "nbformat_minor": 4
}
