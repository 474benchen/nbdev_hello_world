{
 "cells": [
  {
   "cell_type": "raw",
   "metadata": {},
   "source": [
    "---\n",
    "title: nbdev2 macbook test\n",
    "output-file: core.html\n",
    "description: testing new nbdev release on macbook m1 architecture\n",
    "---"
   ]
  },
  {
   "cell_type": "code",
   "execution_count": null,
   "metadata": {},
   "outputs": [],
   "source": [
    "#| default_exp core"
   ]
  },
  {
   "cell_type": "code",
   "execution_count": null,
   "metadata": {},
   "outputs": [],
   "source": [
    "#| hide\n",
    "from nbdev.showdoc import *\n",
    "import pandas as pd\n",
    "import numpy as np\n",
    "from itertools import cycle"
   ]
  },
  {
   "cell_type": "code",
   "execution_count": null,
   "metadata": {},
   "outputs": [],
   "source": [
    "#| export\n",
    "def foo(): pass"
   ]
  },
  {
   "cell_type": "code",
   "execution_count": null,
   "metadata": {},
   "outputs": [],
   "source": [
    "#|export\n",
    "def say_hello(to):\n",
    "    \"Say hello to somebody\"\n",
    "    return f'Hello {to}!'"
   ]
  },
  {
   "cell_type": "code",
   "execution_count": null,
   "metadata": {},
   "outputs": [
    {
     "data": {
      "text/plain": [
       "'Hello water!'"
      ]
     },
     "execution_count": null,
     "metadata": {},
     "output_type": "execute_result"
    }
   ],
   "source": [
    "say_hello(\"water\")"
   ]
  },
  {
   "cell_type": "markdown",
   "metadata": {},
   "source": [
    "## test index"
   ]
  },
  {
   "cell_type": "code",
   "execution_count": null,
   "metadata": {},
   "outputs": [],
   "source": [
    "from IPython.display import display,SVG"
   ]
  },
  {
   "cell_type": "code",
   "execution_count": null,
   "metadata": {},
   "outputs": [
    {
     "data": {
      "image/svg+xml": [
       "<svg xmlns=\"http://www.w3.org/2000/svg\" height=\"100\"><circle cx=\"50\" cy=\"50\" r=\"40\"/></svg>"
      ],
      "text/plain": [
       "<IPython.core.display.SVG object>"
      ]
     },
     "metadata": {},
     "output_type": "display_data"
    }
   ],
   "source": [
    "display(SVG('<svg height=\"100\" xmlns=\"http://www.w3.org/2000/svg\"><circle cx=\"50\" cy=\"50\" r=\"40\"/></svg>'))"
   ]
  },
  {
   "cell_type": "code",
   "execution_count": null,
   "metadata": {},
   "outputs": [],
   "source": [
    "assert say_hello(\"Hamel\")==\"Hello Hamel!\""
   ]
  },
  {
   "cell_type": "code",
   "execution_count": null,
   "metadata": {},
   "outputs": [
    {
     "data": {
      "text/plain": [
       "'Hello Isaac!'"
      ]
     },
     "execution_count": null,
     "metadata": {},
     "output_type": "execute_result"
    }
   ],
   "source": [
    "say_hello(\"Isaac\")"
   ]
  },
  {
   "cell_type": "code",
   "execution_count": null,
   "metadata": {},
   "outputs": [],
   "source": [
    "#| hide\n",
    "#import nbdev; nbdev.nbdev_export()"
   ]
  },
  {
   "cell_type": "markdown",
   "metadata": {},
   "source": [
    "## test dataframe\n"
   ]
  },
  {
   "cell_type": "code",
   "execution_count": null,
   "metadata": {},
   "outputs": [],
   "source": [
    "#|export\n",
    "\n",
    "def generate_fake_dataframe(size, cols, col_names = None, intervals = None, seed = None):\n",
    "    'generate long fake dataframe'\n",
    "    \n",
    "    categories_dict = {'animals': ['cow', 'rabbit', 'duck', 'shrimp', 'pig', 'goat', 'crab', 'deer', 'bee', 'sheep', 'fish', 'turkey', 'dove', 'chicken', 'horse'],\n",
    "                       'names'  : ['James', 'Mary', 'Robert', 'Patricia', 'John', 'Jennifer', 'Michael', 'Linda', 'William', 'Elizabeth', 'Ahmed', 'Barbara', 'Richard', 'Susan', 'Salomon', 'Juan Luis'],\n",
    "                       'cities' : ['Stockholm', 'Denver', 'Moscow', 'Marseille', 'Palermo', 'Tokyo', 'Lisbon', 'Oslo', 'Nairobi', 'Río de Janeiro', 'Berlin', 'Bogotá', 'Manila', 'Madrid', 'Milwaukee'],\n",
    "                       'colors' : ['red', 'orange', 'yellow', 'green', 'blue', 'indigo', 'purple', 'pink', 'silver', 'gold', 'beige', 'brown', 'grey', 'black', 'white']\n",
    "                      }\n",
    "    default_intervals = {\"i\" : (0,10), \"f\" : (0,100), \"c\" : (\"names\", 5), \"d\" : (\"2020-01-01\",\"2020-12-31\")}\n",
    "    rng = np.random.default_rng(seed)\n",
    "\n",
    "    first_c = default_intervals[\"c\"][0]\n",
    "    categories_names = cycle([first_c] + [c for c in categories_dict.keys() if c != first_c])\n",
    "    default_intervals[\"c\"] = (categories_names, default_intervals[\"c\"][1])\n",
    "    \n",
    "    if isinstance(col_names,list):\n",
    "        assert len(col_names) == len(cols), f\"The fake DataFrame should have {len(cols)} columns but col_names is a list with {len(col_names)} elements\"\n",
    "    elif col_names is None:\n",
    "        suffix = {\"c\" : \"cat\", \"i\" : \"int\", \"f\" : \"float\", \"d\" : \"date\"}\n",
    "        col_names = [f\"column_{str(i)}_{suffix.get(col)}\" for i, col in enumerate(cols)]\n",
    "\n",
    "    if isinstance(intervals,list):\n",
    "        assert len(intervals) == len(cols), f\"The fake DataFrame should have {len(cols)} columns but intervals is a list with {len(intervals)} elements\"\n",
    "    else:\n",
    "        if isinstance(intervals,dict):\n",
    "            assert len(set(intervals.keys()) - set(default_intervals.keys())) == 0, f\"The intervals parameter has invalid keys\"\n",
    "            default_intervals.update(intervals)\n",
    "        intervals = [default_intervals[col] for col in cols]\n",
    "    df = pd.DataFrame()\n",
    "    for col, col_name, interval in zip(cols, col_names, intervals):\n",
    "        if interval is None:\n",
    "            interval = default_intervals[col]\n",
    "        assert (len(interval) == 2 and isinstance(interval, tuple)) or isinstance(interval, list), f\"This interval {interval} is neither a tuple of two elements nor a list of strings.\"\n",
    "        if col in (\"i\",\"f\",\"d\"):\n",
    "            start, end = interval\n",
    "        if col == \"i\":\n",
    "            df[col_name] = rng.integers(start, end, size)\n",
    "        elif col == \"f\":\n",
    "            df[col_name] = rng.uniform(start, end, size)\n",
    "        elif col == \"c\":\n",
    "            if isinstance(interval, list):\n",
    "                categories = np.array(interval)\n",
    "            else:\n",
    "                cat_family, length = interval\n",
    "                if isinstance(cat_family, cycle):\n",
    "                    cat_family = next(cat_family)\n",
    "                assert cat_family in categories_dict.keys(), f\"There are no samples for category '{cat_family}'. Consider passing a list of samples or use one of the available categories: {categories_dict.keys()}\"\n",
    "                categories = rng.choice(categories_dict[cat_family], length, replace = False, shuffle = True)\n",
    "            df[col_name] = rng.choice(categories, size, shuffle = True)\n",
    "        elif col == \"d\":\n",
    "            df[col_name] = rng.choice(pd.date_range(start, end), size)\n",
    "    return df "
   ]
  },
  {
   "cell_type": "code",
   "execution_count": null,
   "metadata": {},
   "outputs": [
    {
     "data": {
      "text/html": [
       "<div>\n",
       "<style scoped>\n",
       "    .dataframe tbody tr th:only-of-type {\n",
       "        vertical-align: middle;\n",
       "    }\n",
       "\n",
       "    .dataframe tbody tr th {\n",
       "        vertical-align: top;\n",
       "    }\n",
       "\n",
       "    .dataframe thead th {\n",
       "        text-align: right;\n",
       "    }\n",
       "</style>\n",
       "<table border=\"1\" class=\"dataframe\">\n",
       "  <thead>\n",
       "    <tr style=\"text-align: right;\">\n",
       "      <th></th>\n",
       "      <th>column_0_cat</th>\n",
       "      <th>column_1_int</th>\n",
       "      <th>column_2_float</th>\n",
       "      <th>column_3_int</th>\n",
       "      <th>column_4_float</th>\n",
       "      <th>column_5_float</th>\n",
       "      <th>column_6_int</th>\n",
       "      <th>column_7_cat</th>\n",
       "      <th>column_8_cat</th>\n",
       "      <th>column_9_date</th>\n",
       "      <th>column_10_cat</th>\n",
       "      <th>column_11_cat</th>\n",
       "      <th>column_12_cat</th>\n",
       "    </tr>\n",
       "  </thead>\n",
       "  <tbody>\n",
       "    <tr>\n",
       "      <th>0</th>\n",
       "      <td>John</td>\n",
       "      <td>0</td>\n",
       "      <td>5.532835</td>\n",
       "      <td>0</td>\n",
       "      <td>56.744653</td>\n",
       "      <td>24.097343</td>\n",
       "      <td>5</td>\n",
       "      <td>cow</td>\n",
       "      <td>Bogotá</td>\n",
       "      <td>2020-03-15</td>\n",
       "      <td>green</td>\n",
       "      <td>James</td>\n",
       "      <td>shrimp</td>\n",
       "    </tr>\n",
       "    <tr>\n",
       "      <th>1</th>\n",
       "      <td>James</td>\n",
       "      <td>5</td>\n",
       "      <td>47.197453</td>\n",
       "      <td>1</td>\n",
       "      <td>40.175035</td>\n",
       "      <td>49.900233</td>\n",
       "      <td>4</td>\n",
       "      <td>crab</td>\n",
       "      <td>Oslo</td>\n",
       "      <td>2020-11-25</td>\n",
       "      <td>orange</td>\n",
       "      <td>James</td>\n",
       "      <td>goat</td>\n",
       "    </tr>\n",
       "    <tr>\n",
       "      <th>2</th>\n",
       "      <td>Ahmed</td>\n",
       "      <td>0</td>\n",
       "      <td>57.308452</td>\n",
       "      <td>9</td>\n",
       "      <td>25.579119</td>\n",
       "      <td>85.690255</td>\n",
       "      <td>7</td>\n",
       "      <td>duck</td>\n",
       "      <td>Bogotá</td>\n",
       "      <td>2020-02-07</td>\n",
       "      <td>brown</td>\n",
       "      <td>Susan</td>\n",
       "      <td>crab</td>\n",
       "    </tr>\n",
       "    <tr>\n",
       "      <th>3</th>\n",
       "      <td>Jennifer</td>\n",
       "      <td>1</td>\n",
       "      <td>61.201199</td>\n",
       "      <td>0</td>\n",
       "      <td>87.951622</td>\n",
       "      <td>37.173963</td>\n",
       "      <td>1</td>\n",
       "      <td>pig</td>\n",
       "      <td>Río de Janeiro</td>\n",
       "      <td>2020-03-29</td>\n",
       "      <td>brown</td>\n",
       "      <td>Salomon</td>\n",
       "      <td>crab</td>\n",
       "    </tr>\n",
       "    <tr>\n",
       "      <th>4</th>\n",
       "      <td>John</td>\n",
       "      <td>9</td>\n",
       "      <td>99.578018</td>\n",
       "      <td>5</td>\n",
       "      <td>23.033691</td>\n",
       "      <td>71.530782</td>\n",
       "      <td>1</td>\n",
       "      <td>duck</td>\n",
       "      <td>Bogotá</td>\n",
       "      <td>2020-01-17</td>\n",
       "      <td>purple</td>\n",
       "      <td>Salomon</td>\n",
       "      <td>crab</td>\n",
       "    </tr>\n",
       "    <tr>\n",
       "      <th>...</th>\n",
       "      <td>...</td>\n",
       "      <td>...</td>\n",
       "      <td>...</td>\n",
       "      <td>...</td>\n",
       "      <td>...</td>\n",
       "      <td>...</td>\n",
       "      <td>...</td>\n",
       "      <td>...</td>\n",
       "      <td>...</td>\n",
       "      <td>...</td>\n",
       "      <td>...</td>\n",
       "      <td>...</td>\n",
       "      <td>...</td>\n",
       "    </tr>\n",
       "    <tr>\n",
       "      <th>995</th>\n",
       "      <td>John</td>\n",
       "      <td>5</td>\n",
       "      <td>96.155893</td>\n",
       "      <td>0</td>\n",
       "      <td>79.998370</td>\n",
       "      <td>9.624770</td>\n",
       "      <td>6</td>\n",
       "      <td>duck</td>\n",
       "      <td>Río de Janeiro</td>\n",
       "      <td>2020-11-16</td>\n",
       "      <td>brown</td>\n",
       "      <td>Salomon</td>\n",
       "      <td>shrimp</td>\n",
       "    </tr>\n",
       "    <tr>\n",
       "      <th>996</th>\n",
       "      <td>Ahmed</td>\n",
       "      <td>0</td>\n",
       "      <td>31.068069</td>\n",
       "      <td>2</td>\n",
       "      <td>53.066150</td>\n",
       "      <td>22.217143</td>\n",
       "      <td>8</td>\n",
       "      <td>shrimp</td>\n",
       "      <td>Madrid</td>\n",
       "      <td>2020-02-04</td>\n",
       "      <td>green</td>\n",
       "      <td>Susan</td>\n",
       "      <td>goat</td>\n",
       "    </tr>\n",
       "    <tr>\n",
       "      <th>997</th>\n",
       "      <td>Jennifer</td>\n",
       "      <td>1</td>\n",
       "      <td>72.631285</td>\n",
       "      <td>7</td>\n",
       "      <td>31.395798</td>\n",
       "      <td>17.393654</td>\n",
       "      <td>7</td>\n",
       "      <td>duck</td>\n",
       "      <td>Oslo</td>\n",
       "      <td>2020-08-20</td>\n",
       "      <td>purple</td>\n",
       "      <td>Elizabeth</td>\n",
       "      <td>shrimp</td>\n",
       "    </tr>\n",
       "    <tr>\n",
       "      <th>998</th>\n",
       "      <td>Ahmed</td>\n",
       "      <td>7</td>\n",
       "      <td>68.230600</td>\n",
       "      <td>1</td>\n",
       "      <td>22.909062</td>\n",
       "      <td>27.993427</td>\n",
       "      <td>1</td>\n",
       "      <td>crab</td>\n",
       "      <td>Palermo</td>\n",
       "      <td>2020-04-01</td>\n",
       "      <td>green</td>\n",
       "      <td>Salomon</td>\n",
       "      <td>goat</td>\n",
       "    </tr>\n",
       "    <tr>\n",
       "      <th>999</th>\n",
       "      <td>John</td>\n",
       "      <td>2</td>\n",
       "      <td>38.650029</td>\n",
       "      <td>6</td>\n",
       "      <td>90.859356</td>\n",
       "      <td>27.335160</td>\n",
       "      <td>1</td>\n",
       "      <td>pig</td>\n",
       "      <td>Oslo</td>\n",
       "      <td>2020-08-31</td>\n",
       "      <td>green</td>\n",
       "      <td>Linda</td>\n",
       "      <td>crab</td>\n",
       "    </tr>\n",
       "  </tbody>\n",
       "</table>\n",
       "<p>1000 rows × 13 columns</p>\n",
       "</div>"
      ],
      "text/plain": [
       "    column_0_cat  column_1_int  column_2_float  column_3_int  column_4_float  \\\n",
       "0           John             0        5.532835             0       56.744653   \n",
       "1          James             5       47.197453             1       40.175035   \n",
       "2          Ahmed             0       57.308452             9       25.579119   \n",
       "3       Jennifer             1       61.201199             0       87.951622   \n",
       "4           John             9       99.578018             5       23.033691   \n",
       "..           ...           ...             ...           ...             ...   \n",
       "995         John             5       96.155893             0       79.998370   \n",
       "996        Ahmed             0       31.068069             2       53.066150   \n",
       "997     Jennifer             1       72.631285             7       31.395798   \n",
       "998        Ahmed             7       68.230600             1       22.909062   \n",
       "999         John             2       38.650029             6       90.859356   \n",
       "\n",
       "     column_5_float  column_6_int column_7_cat    column_8_cat column_9_date  \\\n",
       "0         24.097343             5          cow          Bogotá    2020-03-15   \n",
       "1         49.900233             4         crab            Oslo    2020-11-25   \n",
       "2         85.690255             7         duck          Bogotá    2020-02-07   \n",
       "3         37.173963             1          pig  Río de Janeiro    2020-03-29   \n",
       "4         71.530782             1         duck          Bogotá    2020-01-17   \n",
       "..              ...           ...          ...             ...           ...   \n",
       "995        9.624770             6         duck  Río de Janeiro    2020-11-16   \n",
       "996       22.217143             8       shrimp          Madrid    2020-02-04   \n",
       "997       17.393654             7         duck            Oslo    2020-08-20   \n",
       "998       27.993427             1         crab         Palermo    2020-04-01   \n",
       "999       27.335160             1          pig            Oslo    2020-08-31   \n",
       "\n",
       "    column_10_cat column_11_cat column_12_cat  \n",
       "0           green         James        shrimp  \n",
       "1          orange         James          goat  \n",
       "2           brown         Susan          crab  \n",
       "3           brown       Salomon          crab  \n",
       "4          purple       Salomon          crab  \n",
       "..            ...           ...           ...  \n",
       "995         brown       Salomon        shrimp  \n",
       "996         green         Susan          goat  \n",
       "997        purple     Elizabeth        shrimp  \n",
       "998         green       Salomon          goat  \n",
       "999         green         Linda          crab  \n",
       "\n",
       "[1000 rows x 13 columns]"
      ]
     },
     "execution_count": null,
     "metadata": {},
     "output_type": "execute_result"
    }
   ],
   "source": [
    "generate_fake_dataframe(size = 1000, cols =  \"cififficcdccc\")"
   ]
  },
  {
   "cell_type": "code",
   "execution_count": null,
   "metadata": {},
   "outputs": [],
   "source": []
  },
  {
   "cell_type": "code",
   "execution_count": null,
   "metadata": {},
   "outputs": [],
   "source": []
  }
 ],
 "metadata": {
  "kernelspec": {
   "display_name": "Python 3 (ipykernel)",
   "language": "python",
   "name": "python3"
  }
 },
 "nbformat": 4,
 "nbformat_minor": 4
}
